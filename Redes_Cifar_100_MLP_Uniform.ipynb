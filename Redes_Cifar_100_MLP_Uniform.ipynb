{
  "metadata": {
    "kernelspec": {
      "display_name": "Python 3",
      "name": "python3"
    },
    "language_info": {
      "name": "python",
      "version": "3.10.13",
      "mimetype": "text/x-python",
      "codemirror_mode": {
        "name": "ipython",
        "version": 3
      },
      "pygments_lexer": "ipython3",
      "nbconvert_exporter": "python",
      "file_extension": ".py"
    },
    "kaggle": {
      "accelerator": "none",
      "dataSources": [
        {
          "sourceId": 77584,
          "databundleVersionId": 8490010,
          "sourceType": "competition"
        }
      ],
      "dockerImageVersionId": 30698,
      "isInternetEnabled": false,
      "language": "python",
      "sourceType": "notebook",
      "isGpuEnabled": false
    },
    "colab": {
      "provenance": [],
      "gpuType": "T4"
    },
    "accelerator": "GPU"
  },
  "nbformat_minor": 0,
  "nbformat": 4,
  "cells": [
    {
      "source": [
        "\n",
        "# IMPORTANT: RUN THIS CELL IN ORDER TO IMPORT YOUR KAGGLE DATA SOURCES\n",
        "# TO THE CORRECT LOCATION (/kaggle/input) IN YOUR NOTEBOOK,\n",
        "# THEN FEEL FREE TO DELETE THIS CELL.\n",
        "# NOTE: THIS NOTEBOOK ENVIRONMENT DIFFERS FROM KAGGLE'S PYTHON\n",
        "# ENVIRONMENT SO THERE MAY BE MISSING LIBRARIES USED BY YOUR\n",
        "# NOTEBOOK.\n",
        "\n",
        "import os\n",
        "import sys\n",
        "from tempfile import NamedTemporaryFile\n",
        "from urllib.request import urlopen\n",
        "from urllib.parse import unquote, urlparse\n",
        "from urllib.error import HTTPError\n",
        "from zipfile import ZipFile\n",
        "import tarfile\n",
        "import shutil\n",
        "\n",
        "CHUNK_SIZE = 40960\n",
        "DATA_SOURCE_MAPPING = 'itba-cifar-100-2024-q-1:https%3A%2F%2Fstorage.googleapis.com%2Fkaggle-competitions-data%2Fkaggle-v2%2F77584%2F8490010%2Fbundle%2Farchive.zip%3FX-Goog-Algorithm%3DGOOG4-RSA-SHA256%26X-Goog-Credential%3Dgcp-kaggle-com%2540kaggle-161607.iam.gserviceaccount.com%252F20240619%252Fauto%252Fstorage%252Fgoog4_request%26X-Goog-Date%3D20240619T132957Z%26X-Goog-Expires%3D259200%26X-Goog-SignedHeaders%3Dhost%26X-Goog-Signature%3D06092b953b3de4f6820aee4b35371398e41b44a3b425ef580339cff26e1b848dc594c43a5c5f57c84829321998b04dbc075d39f450905fbbe6d52a52a8d00c3a8af5648ba9fed8ad129653d9aadf916b9992c8f2c84a28ec5e12ea9770c8c611d62093c06ae1092a5d8ac349991d409717e1d742b9962d05fc498189152488f04341830ea76831b12d1291ba52602ffcbef53613d5f832436c4d39f9f970ee45fe536d925c125dc05390919aefe7234023703db958e16556d0ef6724dbe13be8c52c828b5f077fb69474887b519a0b66334352f412d4c098da9d04106c68eed6290b5b3e898d60b5d9174c03c3c6a9b332bc8898a432909018fe996a97b5d3fa'\n",
        "\n",
        "KAGGLE_INPUT_PATH='/kaggle/input'\n",
        "KAGGLE_WORKING_PATH='/kaggle/working'\n",
        "KAGGLE_SYMLINK='kaggle'\n",
        "\n",
        "!umount /kaggle/input/ 2> /dev/null\n",
        "shutil.rmtree('/kaggle/input', ignore_errors=True)\n",
        "os.makedirs(KAGGLE_INPUT_PATH, 0o777, exist_ok=True)\n",
        "os.makedirs(KAGGLE_WORKING_PATH, 0o777, exist_ok=True)\n",
        "\n",
        "try:\n",
        "  os.symlink(KAGGLE_INPUT_PATH, os.path.join(\"..\", 'input'), target_is_directory=True)\n",
        "except FileExistsError:\n",
        "  pass\n",
        "try:\n",
        "  os.symlink(KAGGLE_WORKING_PATH, os.path.join(\"..\", 'working'), target_is_directory=True)\n",
        "except FileExistsError:\n",
        "  pass\n",
        "\n",
        "for data_source_mapping in DATA_SOURCE_MAPPING.split(','):\n",
        "    directory, download_url_encoded = data_source_mapping.split(':')\n",
        "    download_url = unquote(download_url_encoded)\n",
        "    filename = urlparse(download_url).path\n",
        "    destination_path = os.path.join(KAGGLE_INPUT_PATH, directory)\n",
        "    try:\n",
        "        with urlopen(download_url) as fileres, NamedTemporaryFile() as tfile:\n",
        "            total_length = fileres.headers['content-length']\n",
        "            print(f'Downloading {directory}, {total_length} bytes compressed')\n",
        "            dl = 0\n",
        "            data = fileres.read(CHUNK_SIZE)\n",
        "            while len(data) > 0:\n",
        "                dl += len(data)\n",
        "                tfile.write(data)\n",
        "                done = int(50 * dl / int(total_length))\n",
        "                sys.stdout.write(f\"\\r[{'=' * done}{' ' * (50-done)}] {dl} bytes downloaded\")\n",
        "                sys.stdout.flush()\n",
        "                data = fileres.read(CHUNK_SIZE)\n",
        "            if filename.endswith('.zip'):\n",
        "              with ZipFile(tfile) as zfile:\n",
        "                zfile.extractall(destination_path)\n",
        "            else:\n",
        "              with tarfile.open(tfile.name) as tarfile:\n",
        "                tarfile.extractall(destination_path)\n",
        "            print(f'\\nDownloaded and uncompressed: {directory}')\n",
        "    except HTTPError as e:\n",
        "        print(f'Failed to load (likely expired) {download_url} to path {destination_path}')\n",
        "        continue\n",
        "    except OSError as e:\n",
        "        print(f'Failed to load {download_url} to path {destination_path}')\n",
        "        continue\n",
        "\n",
        "print('Data source import complete.')\n"
      ],
      "metadata": {
        "id": "tjWy8qfk-J_c",
        "colab": {
          "base_uri": "https://localhost:8080/"
        },
        "outputId": "d3c246b0-b515-4366-a6e5-0ab426091289"
      },
      "cell_type": "code",
      "outputs": [
        {
          "output_type": "stream",
          "name": "stdout",
          "text": [
            "Downloading itba-cifar-100-2024-q-1, 168426762 bytes compressed\n",
            "[==================================================] 168426762 bytes downloaded\n",
            "Downloaded and uncompressed: itba-cifar-100-2024-q-1\n",
            "Data source import complete.\n"
          ]
        }
      ],
      "execution_count": null
    },
    {
      "cell_type": "markdown",
      "source": [
        "#EDA\n"
      ],
      "metadata": {
        "id": "koxhWWHs4CZV"
      }
    },
    {
      "cell_type": "code",
      "source": [
        "# This Python 3 environment comes with many helpful analytics libraries installed\n",
        "# It is defined by the kaggle/python Docker image: https://github.com/kaggle/docker-python\n",
        "# For example, here's several helpful packages to load\n",
        "\n",
        "import numpy as np # linear algebra\n",
        "import pandas as pd # data processing, CSV file I/O (e.g. pd.read_csv)\n",
        "\n",
        "# Input data files are available in the read-only \"../input/\" directory\n",
        "# For example, running this (by clicking run or pressing Shift+Enter) will list all files under the input directory\n",
        "\n",
        "import os\n",
        "for dirname, _, filenames in os.walk('/kaggle/input'):\n",
        "    for filename in filenames:\n",
        "        print(os.path.join(dirname, filename))\n",
        "\n",
        "# You can write up to 20GB to the current directory (/kaggle/working/) that gets preserved as output when you create a version using \"Save & Run All\"\n",
        "# You can also write temporary files to /kaggle/temp/, but they won't be saved outside of the current session"
      ],
      "metadata": {
        "_uuid": "8f2839f25d086af736a60e9eeb907d3b93b6e0e5",
        "_cell_guid": "b1076dfc-b9ad-4769-8c92-a6c4dae69d19",
        "execution": {
          "iopub.status.busy": "2024-05-30T19:23:13.062167Z",
          "iopub.execute_input": "2024-05-30T19:23:13.062643Z",
          "iopub.status.idle": "2024-05-30T19:23:14.366489Z",
          "shell.execute_reply.started": "2024-05-30T19:23:13.062601Z",
          "shell.execute_reply": "2024-05-30T19:23:14.365275Z"
        },
        "trusted": true,
        "id": "h_2uUmRI-J_e",
        "colab": {
          "base_uri": "https://localhost:8080/"
        },
        "outputId": "be622325-fbdc-41a6-899a-e3bea6a369ae"
      },
      "execution_count": null,
      "outputs": [
        {
          "output_type": "stream",
          "name": "stdout",
          "text": [
            "/kaggle/input/itba-cifar-100-2024-q-1/fine_label_names.pck\n",
            "/kaggle/input/itba-cifar-100-2024-q-1/y_train_fine.npy\n",
            "/kaggle/input/itba-cifar-100-2024-q-1/x_train.npy\n",
            "/kaggle/input/itba-cifar-100-2024-q-1/x_test.npy\n",
            "/kaggle/input/itba-cifar-100-2024-q-1/y_train_coarse.npy\n",
            "/kaggle/input/itba-cifar-100-2024-q-1/coarse_label_names.pck\n"
          ]
        }
      ]
    },
    {
      "cell_type": "code",
      "source": [
        "x_train = np.load(\"/kaggle/input/itba-cifar-100-2024-q-1/x_train.npy\")/255.\n",
        "x_test = np.load(\"/kaggle/input/itba-cifar-100-2024-q-1/x_test.npy\")/255.\n",
        "y_train_coarse = np.load(\"/kaggle/input/itba-cifar-100-2024-q-1/y_train_coarse.npy\")\n",
        "y_train_fine = np.load(\"/kaggle/input/itba-cifar-100-2024-q-1/y_train_fine.npy\")\n",
        "print(y_train_coarse)\n",
        "print(y_train_fine)"
      ],
      "metadata": {
        "execution": {
          "iopub.status.busy": "2024-05-30T19:23:18.048058Z",
          "iopub.execute_input": "2024-05-30T19:23:18.048523Z",
          "iopub.status.idle": "2024-05-30T19:23:21.449212Z",
          "shell.execute_reply.started": "2024-05-30T19:23:18.048488Z",
          "shell.execute_reply": "2024-05-30T19:23:21.447652Z"
        },
        "trusted": true,
        "id": "otkl4jz1-J_f",
        "outputId": "a1a5a023-993a-4841-f228-8f3e0c9a79bf",
        "colab": {
          "base_uri": "https://localhost:8080/"
        }
      },
      "execution_count": null,
      "outputs": [
        {
          "output_type": "stream",
          "name": "stdout",
          "text": [
            "[11 15  4 ...  8  7  1]\n",
            "[19 29  0 ...  3  7 73]\n"
          ]
        }
      ]
    },
    {
      "cell_type": "code",
      "source": [
        "import pickle\n",
        "with open(\"/kaggle/input/itba-cifar-100-2024-q-1/fine_label_names.pck\", \"rb\") as f:\n",
        "    labels_fine = pickle.load(f)\n",
        "with open(\"/kaggle/input/itba-cifar-100-2024-q-1/coarse_label_names.pck\", \"rb\") as f:\n",
        "    labels_coarse = pickle.load(f)"
      ],
      "metadata": {
        "execution": {
          "iopub.status.busy": "2024-05-30T19:23:25.968739Z",
          "iopub.execute_input": "2024-05-30T19:23:25.969132Z",
          "iopub.status.idle": "2024-05-30T19:23:25.986815Z",
          "shell.execute_reply.started": "2024-05-30T19:23:25.969085Z",
          "shell.execute_reply": "2024-05-30T19:23:25.985514Z"
        },
        "trusted": true,
        "id": "LerJM-pX-J_g"
      },
      "execution_count": null,
      "outputs": []
    },
    {
      "cell_type": "code",
      "source": [
        "from matplotlib import pyplot as plt\n",
        "#%load_ext tensorboard"
      ],
      "metadata": {
        "execution": {
          "iopub.status.busy": "2024-05-30T19:23:29.156174Z",
          "iopub.execute_input": "2024-05-30T19:23:29.156561Z",
          "iopub.status.idle": "2024-05-30T19:23:29.162045Z",
          "shell.execute_reply.started": "2024-05-30T19:23:29.156529Z",
          "shell.execute_reply": "2024-05-30T19:23:29.160776Z"
        },
        "trusted": true,
        "id": "22jwXqFc-J_g"
      },
      "execution_count": null,
      "outputs": []
    },
    {
      "cell_type": "code",
      "source": [
        "plt.figure(figsize=(1,1))\n",
        "plt.imshow(x_train[0])\n",
        "\n",
        "print(y_train_fine)"
      ],
      "metadata": {
        "execution": {
          "iopub.status.busy": "2024-05-30T19:23:31.134762Z",
          "iopub.execute_input": "2024-05-30T19:23:31.135164Z",
          "iopub.status.idle": "2024-05-30T19:23:31.300353Z",
          "shell.execute_reply.started": "2024-05-30T19:23:31.13513Z",
          "shell.execute_reply": "2024-05-30T19:23:31.299181Z"
        },
        "trusted": true,
        "id": "TIXhXmVL-J_g",
        "colab": {
          "base_uri": "https://localhost:8080/",
          "height": 160
        },
        "outputId": "979d8c22-8a53-4ebc-f922-8ae6b7e747f3"
      },
      "execution_count": null,
      "outputs": [
        {
          "output_type": "stream",
          "name": "stdout",
          "text": [
            "[19 29  0 ...  3  7 73]\n"
          ]
        },
        {
          "output_type": "display_data",
          "data": {
            "text/plain": [
              "<Figure size 100x100 with 1 Axes>"
            ],
            "image/png": "[encoded data removed]"
          },
          "metadata": {}
        }
      ]
    },
    {
      "cell_type": "code",
      "source": [
        "y_train_fine[0]"
      ],
      "metadata": {
        "execution": {
          "iopub.status.busy": "2024-05-30T19:23:34.397027Z",
          "iopub.execute_input": "2024-05-30T19:23:34.397447Z",
          "iopub.status.idle": "2024-05-30T19:23:34.405232Z",
          "shell.execute_reply.started": "2024-05-30T19:23:34.397404Z",
          "shell.execute_reply": "2024-05-30T19:23:34.403988Z"
        },
        "trusted": true,
        "id": "yIVdsMa4-J_g",
        "colab": {
          "base_uri": "https://localhost:8080/"
        },
        "outputId": "9be207d4-e512-447f-a3e7-5b966e11b147"
      },
      "execution_count": null,
      "outputs": [
        {
          "output_type": "execute_result",
          "data": {
            "text/plain": [
              "19"
            ]
          },
          "metadata": {},
          "execution_count": 37
        }
      ]
    },
    {
      "cell_type": "code",
      "source": [
        "labels_fine[19]"
      ],
      "metadata": {
        "execution": {
          "iopub.status.busy": "2024-05-30T19:23:37.254004Z",
          "iopub.execute_input": "2024-05-30T19:23:37.255378Z",
          "iopub.status.idle": "2024-05-30T19:23:37.262473Z",
          "shell.execute_reply.started": "2024-05-30T19:23:37.255333Z",
          "shell.execute_reply": "2024-05-30T19:23:37.261151Z"
        },
        "trusted": true,
        "id": "01OqQ4EJ-J_h",
        "colab": {
          "base_uri": "https://localhost:8080/",
          "height": 35
        },
        "outputId": "05fccf67-714f-4963-b791-cd2fef9696a7"
      },
      "execution_count": null,
      "outputs": [
        {
          "output_type": "execute_result",
          "data": {
            "text/plain": [
              "'cattle'"
            ],
            "application/vnd.google.colaboratory.intrinsic+json": {
              "type": "string"
            }
          },
          "metadata": {},
          "execution_count": 38
        }
      ]
    },
    {
      "cell_type": "markdown",
      "source": [
        "#Cross Validation\n",
        "\n",
        "De todo el dataset de train se dividió un 20% para poder realizar el cross validation.\n"
      ],
      "metadata": {
        "id": "xhWvxg8X-J_h"
      }
    },
    {
      "cell_type": "code",
      "source": [
        "from sklearn.model_selection import train_test_split\n",
        "X_train, X_train_cv, y_train, y_train_cv = train_test_split(np.load(\"/kaggle/input/itba-cifar-100-2024-q-1/x_train.npy\")/255.,\n",
        "                                                    y_train_fine, test_size=0.2, random_state=42)"
      ],
      "metadata": {
        "execution": {
          "iopub.status.busy": "2024-05-30T19:23:41.880996Z",
          "iopub.execute_input": "2024-05-30T19:23:41.881405Z",
          "iopub.status.idle": "2024-05-30T19:23:43.837972Z",
          "shell.execute_reply.started": "2024-05-30T19:23:41.881372Z",
          "shell.execute_reply": "2024-05-30T19:23:43.836053Z"
        },
        "trusted": true,
        "id": "i3kg9C6a-J_i"
      },
      "execution_count": null,
      "outputs": []
    },
    {
      "cell_type": "code",
      "source": [
        "#Chequeamos que los tamaños son los esperados\n",
        "print(len(X_train))\n",
        "print(len(X_train_cv))\n",
        "print(len(y_train))\n",
        "print(len(y_train_cv))"
      ],
      "metadata": {
        "execution": {
          "iopub.status.busy": "2024-05-30T19:23:46.419208Z",
          "iopub.execute_input": "2024-05-30T19:23:46.420467Z",
          "iopub.status.idle": "2024-05-30T19:23:46.427055Z",
          "shell.execute_reply.started": "2024-05-30T19:23:46.420417Z",
          "shell.execute_reply": "2024-05-30T19:23:46.425717Z"
        },
        "trusted": true,
        "id": "ylMh7mzW-J_i",
        "colab": {
          "base_uri": "https://localhost:8080/"
        },
        "outputId": "c21f684a-7344-4c01-a55e-ec6614ee8895"
      },
      "execution_count": null,
      "outputs": [
        {
          "output_type": "stream",
          "name": "stdout",
          "text": [
            "40000\n",
            "10000\n",
            "40000\n",
            "10000\n"
          ]
        }
      ]
    },
    {
      "cell_type": "markdown",
      "source": [
        "###Extensión del dataset con Data Generator"
      ],
      "metadata": {
        "id": "apPdOl9cBLAo"
      }
    },
    {
      "cell_type": "code",
      "source": [
        "#Se requiere extender el dataset, se utiliza un generator donde se rotan y se cambian las imágenes.Esto nos permite entrenar con más imágenes que tienen información del dataset y\n",
        "#y que no son iguales a las generales.\n",
        "from tensorflow.keras.preprocessing.image import ImageDataGenerator\n",
        "datagen = ImageDataGenerator(\n",
        "    rotation_range=15,\n",
        "    horizontal_flip=True,  #tengo que flipearlas horizontalmente, no verticalmente\n",
        "    zoom_range=0.2,\n",
        "    shear_range=0.15\n",
        ")\n",
        "datagen.fit(X_train)\n"
      ],
      "metadata": {
        "execution": {
          "iopub.status.busy": "2024-05-30T19:24:09.108357Z",
          "iopub.execute_input": "2024-05-30T19:24:09.108777Z",
          "iopub.status.idle": "2024-05-30T19:24:09.527061Z",
          "shell.execute_reply.started": "2024-05-30T19:24:09.108735Z",
          "shell.execute_reply": "2024-05-30T19:24:09.525822Z"
        },
        "trusted": true,
        "id": "nP_j9381-J_j"
      },
      "execution_count": null,
      "outputs": []
    },
    {
      "cell_type": "markdown",
      "source": [
        "\n",
        "\n",
        "#Armado de la red\n",
        "\n",
        "\n"
      ],
      "metadata": {
        "id": "MLGo89LF-J_j"
      }
    },
    {
      "cell_type": "code",
      "source": [
        "from tensorflow.keras.models import Sequential\n",
        "from tensorflow.keras.layers import Dense, Dropout, BatchNormalization, Flatten, Conv2D, MaxPooling2D\n",
        "from tensorflow.keras.optimizers import SGD, Adam, RMSprop\n",
        "from tensorflow.keras.regularizers import l1, l2\n",
        "from tensorflow.keras.constraints import MaxNorm\n",
        "from tensorflow.keras.callbacks import ReduceLROnPlateau, EarlyStopping, ModelCheckpoint, TensorBoard\n",
        "from tensorflow.keras.initializers import GlorotNormal, GlorotUniform\n",
        "from  tensorflow.keras.optimizers.schedules import InverseTimeDecay"
      ],
      "metadata": {
        "execution": {
          "iopub.status.busy": "2024-05-30T19:24:17.095523Z",
          "iopub.execute_input": "2024-05-30T19:24:17.096012Z",
          "iopub.status.idle": "2024-05-30T19:24:17.103283Z",
          "shell.execute_reply.started": "2024-05-30T19:24:17.095979Z",
          "shell.execute_reply": "2024-05-30T19:24:17.101866Z"
        },
        "trusted": true,
        "id": "uqEqnUQn-J_j"
      },
      "execution_count": null,
      "outputs": []
    },
    {
      "cell_type": "code",
      "source": [
        "#esto su utilizó como prueba, pero al final fue preferible el Rlop\n",
        "#la diferencia es que esto va cambiando paso más cortos en el tiempo de entrenamiento. No espera como ReduceLROnPlateau a cierta cantidad de iteraciones donde no cambia el accuracy\n",
        "lr_schedule =InverseTimeDecay(\n",
        "    0.001,\n",
        "    decay_steps=1875*100,\n",
        "    decay_rate=5,\n",
        "    staircase=False\n",
        ")"
      ],
      "metadata": {
        "id": "vb3lQFJEqdPD"
      },
      "execution_count": null,
      "outputs": []
    },
    {
      "cell_type": "markdown",
      "source": [
        "##Glorot Uniform"
      ],
      "metadata": {
        "id": "ZNh2y_obAaHf"
      }
    },
    {
      "cell_type": "code",
      "source": [
        "#inicializador, se corrió con uniforme y normal y se tomó el de mejor funcionamiento\n",
        "#Kernel initialiazer\n",
        "initializer = GlorotUniform()\n",
        "initializer_normal = GlorotNormal()"
      ],
      "metadata": {
        "id": "u-ZLbMmB5Sft"
      },
      "execution_count": null,
      "outputs": []
    },
    {
      "cell_type": "code",
      "source": [
        "model = Sequential()\n",
        "\n",
        "model.add(Flatten(input_shape=(32,32,3)))\n",
        "\n",
        "\n",
        "#En la activación se usó swish en vez de relu debido a que brindó mejores resultados (un 2-3% aproximado de mejora)\n",
        "#First layer\n",
        "model.add(Dense(1024, activation=\"swish\", kernel_initializer = initializer))\n",
        "model.add(Dropout(0.2))\n",
        "\n",
        "#second layer\n",
        "model.add(Dense(512, activation=\"swish\", kernel_initializer = initializer))\n",
        "model.add(BatchNormalization())\n",
        "\n",
        "#thrid layer\n",
        "model.add(Dense(256, activation=\"swish\", kernel_initializer = initializer))\n",
        "model.add(Dropout(0.2))\n",
        "\n",
        "#fourth layer\n",
        "model.add(Dense(100, activation=\"softmax\",kernel_initializer = initializer))\n",
        "\n",
        "model.compile(loss=\"sparse_categorical_crossentropy\", metrics = [\"accuracy\"], optimizer = Adam(learning_rate=0.001))"
      ],
      "metadata": {
        "execution": {
          "iopub.status.busy": "2024-05-30T19:25:09.915399Z",
          "iopub.execute_input": "2024-05-30T19:25:09.915854Z",
          "iopub.status.idle": "2024-05-30T19:25:10.211851Z",
          "shell.execute_reply.started": "2024-05-30T19:25:09.91582Z",
          "shell.execute_reply": "2024-05-30T19:25:10.210465Z"
        },
        "trusted": true,
        "id": "RaUhwY5f-J_j",
        "colab": {
          "base_uri": "https://localhost:8080/"
        },
        "outputId": "ad9394d0-1c2c-41d0-ad43-141b3602d45f"
      },
      "execution_count": null,
      "outputs": [
        {
          "output_type": "stream",
          "name": "stderr",
          "text": [
            "/usr/local/lib/python3.10/dist-packages/keras/src/initializers/initializers.py:120: UserWarning: The initializer GlorotNormal is unseeded and being called multiple times, which will return identical values each time (even if the initializer is unseeded). Please update your code to provide a seed to the initializer, or avoid using the same initializer instance more than once.\n",
            "  warnings.warn(\n"
          ]
        }
      ]
    },
    {
      "cell_type": "markdown",
      "source": [
        "##Callbacks del modelo\n",
        "Se utilizó:\n",
        "\n",
        "\n",
        "*   ReduceLROnPlateau: permite disminuir el learning rate si la métrica no cambia. En este caso la métrica es val_accurracy. En este caso empieza el entrenamiento con 0.001 de learning rate y cada 3 Epoch donde no mejora la métrica, baja en una factor de 0.25 hasta llegar al mínimo.\n",
        "*  ModelCheckpoint: me permite guardar los pesos de la mejor métrica\n",
        "*  EarlyStopping: termina el modelo así no se genera overfitting en el caso de que la métrica no haya mejorado en una cantidad de 8 epoch seguidos\n",
        "\n"
      ],
      "metadata": {
        "id": "5S_Lw6cN5sVd"
      }
    },
    {
      "cell_type": "code",
      "source": [
        "rlrop = ReduceLROnPlateau(\n",
        "    monitor = \"val_accuracy\",\n",
        "    factor = 0.25,\n",
        "    patience = 3,\n",
        "    verbose = 1,\n",
        "    min_lr = 0.5e-5\n",
        ")"
      ],
      "metadata": {
        "execution": {
          "iopub.status.busy": "2024-05-30T19:25:13.618882Z",
          "iopub.execute_input": "2024-05-30T19:25:13.619355Z",
          "iopub.status.idle": "2024-05-30T19:25:13.625817Z",
          "shell.execute_reply.started": "2024-05-30T19:25:13.619314Z",
          "shell.execute_reply": "2024-05-30T19:25:13.624501Z"
        },
        "trusted": true,
        "id": "zC_8PqkR-J_k"
      },
      "execution_count": null,
      "outputs": []
    },
    {
      "cell_type": "code",
      "source": [
        "model.summary()"
      ],
      "metadata": {
        "execution": {
          "iopub.status.busy": "2024-05-30T19:25:15.646626Z",
          "iopub.execute_input": "2024-05-30T19:25:15.647036Z",
          "iopub.status.idle": "2024-05-30T19:25:15.687152Z",
          "shell.execute_reply.started": "2024-05-30T19:25:15.647006Z",
          "shell.execute_reply": "2024-05-30T19:25:15.685874Z"
        },
        "trusted": true,
        "id": "5DlWH8ox-J_k",
        "colab": {
          "base_uri": "https://localhost:8080/"
        },
        "outputId": "22dabd3f-21de-4692-a303-c5c5648641e1"
      },
      "execution_count": null,
      "outputs": [
        {
          "output_type": "stream",
          "name": "stdout",
          "text": [
            "Model: \"sequential_2\"\n",
            "_________________________________________________________________\n",
            " Layer (type)                Output Shape              Param #   \n",
            "=================================================================\n",
            " flatten_2 (Flatten)         (None, 3072)              0         \n",
            "                                                                 \n",
            " dense_8 (Dense)             (None, 1024)              3146752   \n",
            "                                                                 \n",
            " dropout_4 (Dropout)         (None, 1024)              0         \n",
            "                                                                 \n",
            " dense_9 (Dense)             (None, 512)               524800    \n",
            "                                                                 \n",
            " batch_normalization_2 (Bat  (None, 512)               2048      \n",
            " chNormalization)                                                \n",
            "                                                                 \n",
            " dense_10 (Dense)            (None, 256)               131328    \n",
            "                                                                 \n",
            " dropout_5 (Dropout)         (None, 256)               0         \n",
            "                                                                 \n",
            " dense_11 (Dense)            (None, 100)               25700     \n",
            "                                                                 \n",
            "=================================================================\n",
            "Total params: 3830628 (14.61 MB)\n",
            "Trainable params: 3829604 (14.61 MB)\n",
            "Non-trainable params: 1024 (4.00 KB)\n",
            "_________________________________________________________________\n"
          ]
        }
      ]
    },
    {
      "cell_type": "code",
      "source": [
        "mc = ModelCheckpoint(\n",
        "    \"best.weights.h5\",\n",
        "    monitor = \"val_accuracy\",\n",
        "    verbose = 1,\n",
        "    save_best_only = True,\n",
        "    save_weights_only = True,\n",
        ")"
      ],
      "metadata": {
        "execution": {
          "iopub.status.busy": "2024-05-30T19:25:18.776424Z",
          "iopub.execute_input": "2024-05-30T19:25:18.776834Z",
          "iopub.status.idle": "2024-05-30T19:25:18.782963Z",
          "shell.execute_reply.started": "2024-05-30T19:25:18.776802Z",
          "shell.execute_reply": "2024-05-30T19:25:18.781592Z"
        },
        "trusted": true,
        "id": "D_UZWl2y-J_k"
      },
      "execution_count": null,
      "outputs": []
    },
    {
      "cell_type": "code",
      "source": [
        "es = EarlyStopping(\n",
        "    monitor = \"val_accuracy\",\n",
        "    patience = 8,\n",
        "    verbose = 1,\n",
        "    restore_best_weights = True,\n",
        ")"
      ],
      "metadata": {
        "execution": {
          "iopub.status.busy": "2024-05-30T19:25:22.63003Z",
          "iopub.execute_input": "2024-05-30T19:25:22.630456Z",
          "iopub.status.idle": "2024-05-30T19:25:22.636392Z",
          "shell.execute_reply.started": "2024-05-30T19:25:22.630425Z",
          "shell.execute_reply": "2024-05-30T19:25:22.635152Z"
        },
        "trusted": true,
        "id": "Va1dVh3C-J_k"
      },
      "execution_count": null,
      "outputs": []
    },
    {
      "cell_type": "code",
      "source": [
        "tb = TensorBoard(\n",
        "    log_dir=\"logs\",\n",
        ")\n"
      ],
      "metadata": {
        "execution": {
          "iopub.status.busy": "2024-05-30T19:25:24.967413Z",
          "iopub.execute_input": "2024-05-30T19:25:24.967807Z",
          "iopub.status.idle": "2024-05-30T19:25:24.973315Z",
          "shell.execute_reply.started": "2024-05-30T19:25:24.967774Z",
          "shell.execute_reply": "2024-05-30T19:25:24.972102Z"
        },
        "trusted": true,
        "id": "9CCdiswt-J_k"
      },
      "execution_count": null,
      "outputs": []
    },
    {
      "cell_type": "markdown",
      "source": [
        "#Entrenamiento\n"
      ],
      "metadata": {
        "id": "DyiBshUv7L1-"
      }
    },
    {
      "cell_type": "code",
      "source": [
        "history = model.fit(\n",
        "#     x = X_train_flip,\n",
        "#     y= Y_train_fine_flip,\n",
        "    datagen.flow(X_train, y_train, batch_size=64),\n",
        "    batch_size=64,\n",
        "    epochs=100,\n",
        "    validation_data =(X_train_cv, y_train_cv),\n",
        "    callbacks= [\n",
        "        rlrop,\n",
        "        es,\n",
        "        mc,\n",
        "        tb,\n",
        "    ]\n",
        ")"
      ],
      "metadata": {
        "execution": {
          "iopub.status.busy": "2024-05-30T19:25:27.859419Z",
          "iopub.execute_input": "2024-05-30T19:25:27.859941Z"
        },
        "trusted": true,
        "id": "UBW6sqLJ-J_k",
        "colab": {
          "base_uri": "https://localhost:8080/"
        },
        "outputId": "7fd18615-6444-4ef0-b36c-42d824b37772"
      },
      "execution_count": null,
      "outputs": [
        {
          "output_type": "stream",
          "name": "stdout",
          "text": [
            "Epoch 1/100\n",
            "624/625 [============================>.] - ETA: 0s - loss: 4.1799 - accuracy: 0.0705\n",
            "Epoch 1: val_accuracy improved from -inf to 0.08780, saving model to best.weights.h5\n",
            "625/625 [==============================] - 25s 36ms/step - loss: 4.1793 - accuracy: 0.0706 - val_loss: 3.9806 - val_accuracy: 0.0878 - lr: 0.0010\n",
            "Epoch 2/100\n",
            "625/625 [==============================] - ETA: 0s - loss: 3.8098 - accuracy: 0.1143\n",
            "Epoch 2: val_accuracy improved from 0.08780 to 0.13730, saving model to best.weights.h5\n",
            "625/625 [==============================] - 23s 37ms/step - loss: 3.8098 - accuracy: 0.1143 - val_loss: 3.7179 - val_accuracy: 0.1373 - lr: 0.0010\n",
            "Epoch 3/100\n",
            "625/625 [==============================] - ETA: 0s - loss: 3.6735 - accuracy: 0.1370\n",
            "Epoch 3: val_accuracy improved from 0.13730 to 0.14510, saving model to best.weights.h5\n",
            "625/625 [==============================] - 23s 36ms/step - loss: 3.6735 - accuracy: 0.1370 - val_loss: 3.6374 - val_accuracy: 0.1451 - lr: 0.0010\n",
            "Epoch 4/100\n",
            "625/625 [==============================] - ETA: 0s - loss: 3.5848 - accuracy: 0.1492\n",
            "Epoch 4: val_accuracy improved from 0.14510 to 0.17400, saving model to best.weights.h5\n",
            "625/625 [==============================] - 22s 35ms/step - loss: 3.5848 - accuracy: 0.1492 - val_loss: 3.4425 - val_accuracy: 0.1740 - lr: 0.0010\n",
            "Epoch 5/100\n",
            "624/625 [============================>.] - ETA: 0s - loss: 3.5115 - accuracy: 0.1668\n",
            "Epoch 5: val_accuracy improved from 0.17400 to 0.18570, saving model to best.weights.h5\n",
            "625/625 [==============================] - 23s 37ms/step - loss: 3.5121 - accuracy: 0.1667 - val_loss: 3.3679 - val_accuracy: 0.1857 - lr: 0.0010\n",
            "Epoch 6/100\n",
            "625/625 [==============================] - ETA: 0s - loss: 3.4510 - accuracy: 0.1749\n",
            "Epoch 6: val_accuracy improved from 0.18570 to 0.20130, saving model to best.weights.h5\n",
            "625/625 [==============================] - 24s 38ms/step - loss: 3.4510 - accuracy: 0.1749 - val_loss: 3.3290 - val_accuracy: 0.2013 - lr: 0.0010\n",
            "Epoch 7/100\n",
            "625/625 [==============================] - ETA: 0s - loss: 3.4194 - accuracy: 0.1808\n",
            "Epoch 7: val_accuracy did not improve from 0.20130\n",
            "625/625 [==============================] - 24s 38ms/step - loss: 3.4194 - accuracy: 0.1808 - val_loss: 3.3234 - val_accuracy: 0.2010 - lr: 0.0010\n",
            "Epoch 8/100\n",
            "624/625 [============================>.] - ETA: 0s - loss: 3.3985 - accuracy: 0.1837\n",
            "Epoch 8: val_accuracy improved from 0.20130 to 0.20700, saving model to best.weights.h5\n",
            "625/625 [==============================] - 23s 37ms/step - loss: 3.3985 - accuracy: 0.1838 - val_loss: 3.2941 - val_accuracy: 0.2070 - lr: 0.0010\n",
            "Epoch 9/100\n",
            "625/625 [==============================] - ETA: 0s - loss: 3.3519 - accuracy: 0.1918\n",
            "Epoch 9: val_accuracy improved from 0.20700 to 0.21350, saving model to best.weights.h5\n",
            "625/625 [==============================] - 23s 37ms/step - loss: 3.3519 - accuracy: 0.1918 - val_loss: 3.2829 - val_accuracy: 0.2135 - lr: 0.0010\n",
            "Epoch 10/100\n",
            "625/625 [==============================] - ETA: 0s - loss: 3.3232 - accuracy: 0.1951\n",
            "Epoch 10: val_accuracy improved from 0.21350 to 0.21510, saving model to best.weights.h5\n",
            "625/625 [==============================] - 22s 35ms/step - loss: 3.3232 - accuracy: 0.1951 - val_loss: 3.2437 - val_accuracy: 0.2151 - lr: 0.0010\n",
            "Epoch 11/100\n",
            "624/625 [============================>.] - ETA: 0s - loss: 3.2950 - accuracy: 0.2022\n",
            "Epoch 11: val_accuracy improved from 0.21510 to 0.21880, saving model to best.weights.h5\n",
            "625/625 [==============================] - 23s 37ms/step - loss: 3.2952 - accuracy: 0.2024 - val_loss: 3.2473 - val_accuracy: 0.2188 - lr: 0.0010\n",
            "Epoch 12/100\n",
            "625/625 [==============================] - ETA: 0s - loss: 3.2675 - accuracy: 0.2059\n",
            "Epoch 12: val_accuracy improved from 0.21880 to 0.22180, saving model to best.weights.h5\n",
            "625/625 [==============================] - 23s 37ms/step - loss: 3.2675 - accuracy: 0.2059 - val_loss: 3.2054 - val_accuracy: 0.2218 - lr: 0.0010\n",
            "Epoch 13/100\n",
            "624/625 [============================>.] - ETA: 0s - loss: 3.2376 - accuracy: 0.2129\n",
            "Epoch 13: val_accuracy improved from 0.22180 to 0.22590, saving model to best.weights.h5\n",
            "625/625 [==============================] - 23s 38ms/step - loss: 3.2376 - accuracy: 0.2128 - val_loss: 3.1873 - val_accuracy: 0.2259 - lr: 0.0010\n",
            "Epoch 14/100\n",
            "625/625 [==============================] - ETA: 0s - loss: 3.2216 - accuracy: 0.2154\n",
            "Epoch 14: val_accuracy improved from 0.22590 to 0.22820, saving model to best.weights.h5\n",
            "625/625 [==============================] - 24s 38ms/step - loss: 3.2216 - accuracy: 0.2154 - val_loss: 3.1698 - val_accuracy: 0.2282 - lr: 0.0010\n",
            "Epoch 15/100\n",
            "624/625 [============================>.] - ETA: 0s - loss: 3.2102 - accuracy: 0.2183\n",
            "Epoch 15: val_accuracy improved from 0.22820 to 0.23510, saving model to best.weights.h5\n",
            "625/625 [==============================] - 29s 47ms/step - loss: 3.2097 - accuracy: 0.2184 - val_loss: 3.1315 - val_accuracy: 0.2351 - lr: 0.0010\n",
            "Epoch 16/100\n",
            "624/625 [============================>.] - ETA: 0s - loss: 3.1781 - accuracy: 0.2215\n",
            "Epoch 16: val_accuracy did not improve from 0.23510\n",
            "625/625 [==============================] - 23s 37ms/step - loss: 3.1780 - accuracy: 0.2216 - val_loss: 3.1870 - val_accuracy: 0.2281 - lr: 0.0010\n",
            "Epoch 17/100\n",
            "624/625 [============================>.] - ETA: 0s - loss: 3.1709 - accuracy: 0.2211\n",
            "Epoch 17: val_accuracy did not improve from 0.23510\n",
            "625/625 [==============================] - 23s 36ms/step - loss: 3.1708 - accuracy: 0.2211 - val_loss: 3.1554 - val_accuracy: 0.2332 - lr: 0.0010\n",
            "Epoch 18/100\n",
            "625/625 [==============================] - ETA: 0s - loss: 3.1490 - accuracy: 0.2285\n",
            "Epoch 18: val_accuracy improved from 0.23510 to 0.23690, saving model to best.weights.h5\n",
            "625/625 [==============================] - 24s 38ms/step - loss: 3.1490 - accuracy: 0.2285 - val_loss: 3.1629 - val_accuracy: 0.2369 - lr: 0.0010\n",
            "Epoch 19/100\n",
            "624/625 [============================>.] - ETA: 0s - loss: 3.1338 - accuracy: 0.2282\n",
            "Epoch 19: val_accuracy improved from 0.23690 to 0.23880, saving model to best.weights.h5\n",
            "625/625 [==============================] - 28s 45ms/step - loss: 3.1339 - accuracy: 0.2282 - val_loss: 3.1200 - val_accuracy: 0.2388 - lr: 0.0010\n",
            "Epoch 20/100\n",
            "625/625 [==============================] - ETA: 0s - loss: 3.1181 - accuracy: 0.2321\n",
            "Epoch 20: val_accuracy did not improve from 0.23880\n",
            "625/625 [==============================] - 25s 39ms/step - loss: 3.1181 - accuracy: 0.2321 - val_loss: 3.1828 - val_accuracy: 0.2370 - lr: 0.0010\n",
            "Epoch 21/100\n",
            "625/625 [==============================] - ETA: 0s - loss: 3.1124 - accuracy: 0.2332\n",
            "Epoch 21: val_accuracy improved from 0.23880 to 0.24300, saving model to best.weights.h5\n",
            "625/625 [==============================] - 23s 37ms/step - loss: 3.1124 - accuracy: 0.2332 - val_loss: 3.1315 - val_accuracy: 0.2430 - lr: 0.0010\n",
            "Epoch 22/100\n",
            "625/625 [==============================] - ETA: 0s - loss: 3.0950 - accuracy: 0.2373\n",
            "Epoch 22: val_accuracy did not improve from 0.24300\n",
            "625/625 [==============================] - 24s 38ms/step - loss: 3.0950 - accuracy: 0.2373 - val_loss: 3.1414 - val_accuracy: 0.2396 - lr: 0.0010\n",
            "Epoch 23/100\n",
            "625/625 [==============================] - ETA: 0s - loss: 3.0745 - accuracy: 0.2412\n",
            "Epoch 23: val_accuracy improved from 0.24300 to 0.24810, saving model to best.weights.h5\n",
            "625/625 [==============================] - 24s 38ms/step - loss: 3.0745 - accuracy: 0.2412 - val_loss: 3.0951 - val_accuracy: 0.2481 - lr: 0.0010\n",
            "Epoch 24/100\n",
            "625/625 [==============================] - ETA: 0s - loss: 3.0619 - accuracy: 0.2416\n",
            "Epoch 24: val_accuracy did not improve from 0.24810\n",
            "625/625 [==============================] - 23s 37ms/step - loss: 3.0619 - accuracy: 0.2416 - val_loss: 3.1191 - val_accuracy: 0.2422 - lr: 0.0010\n",
            "Epoch 25/100\n",
            "624/625 [============================>.] - ETA: 0s - loss: 3.0572 - accuracy: 0.2438\n",
            "Epoch 25: val_accuracy improved from 0.24810 to 0.24850, saving model to best.weights.h5\n",
            "625/625 [==============================] - 23s 37ms/step - loss: 3.0570 - accuracy: 0.2438 - val_loss: 3.0827 - val_accuracy: 0.2485 - lr: 0.0010\n",
            "Epoch 26/100\n",
            "625/625 [==============================] - ETA: 0s - loss: 3.0408 - accuracy: 0.2456\n",
            "Epoch 26: val_accuracy improved from 0.24850 to 0.25080, saving model to best.weights.h5\n",
            "625/625 [==============================] - 31s 49ms/step - loss: 3.0408 - accuracy: 0.2456 - val_loss: 3.0731 - val_accuracy: 0.2508 - lr: 0.0010\n",
            "Epoch 27/100\n",
            "625/625 [==============================] - ETA: 0s - loss: 3.0228 - accuracy: 0.2498\n",
            "Epoch 27: val_accuracy did not improve from 0.25080\n",
            "625/625 [==============================] - 30s 47ms/step - loss: 3.0228 - accuracy: 0.2498 - val_loss: 3.1063 - val_accuracy: 0.2439 - lr: 0.0010\n",
            "Epoch 28/100\n",
            "625/625 [==============================] - ETA: 0s - loss: 3.0128 - accuracy: 0.2505\n",
            "Epoch 28: val_accuracy did not improve from 0.25080\n",
            "625/625 [==============================] - 29s 46ms/step - loss: 3.0128 - accuracy: 0.2505 - val_loss: 3.0748 - val_accuracy: 0.2508 - lr: 0.0010\n",
            "Epoch 29/100\n",
            "624/625 [============================>.] - ETA: 0s - loss: 2.9921 - accuracy: 0.2540\n",
            "Epoch 29: val_accuracy improved from 0.25080 to 0.25290, saving model to best.weights.h5\n",
            "625/625 [==============================] - 23s 37ms/step - loss: 2.9923 - accuracy: 0.2541 - val_loss: 3.0773 - val_accuracy: 0.2529 - lr: 0.0010\n",
            "Epoch 30/100\n",
            "625/625 [==============================] - ETA: 0s - loss: 2.9856 - accuracy: 0.2564\n",
            "Epoch 30: val_accuracy did not improve from 0.25290\n",
            "625/625 [==============================] - 22s 36ms/step - loss: 2.9856 - accuracy: 0.2564 - val_loss: 3.1070 - val_accuracy: 0.2504 - lr: 0.0010\n",
            "Epoch 31/100\n",
            "625/625 [==============================] - ETA: 0s - loss: 2.9768 - accuracy: 0.2594\n",
            "Epoch 31: val_accuracy did not improve from 0.25290\n",
            "625/625 [==============================] - 23s 37ms/step - loss: 2.9768 - accuracy: 0.2594 - val_loss: 3.0939 - val_accuracy: 0.2515 - lr: 0.0010\n",
            "Epoch 32/100\n",
            "625/625 [==============================] - ETA: 0s - loss: 2.9485 - accuracy: 0.2641\n",
            "Epoch 32: ReduceLROnPlateau reducing learning rate to 0.0002500000118743628.\n",
            "\n",
            "Epoch 32: val_accuracy did not improve from 0.25290\n",
            "625/625 [==============================] - 23s 37ms/step - loss: 2.9485 - accuracy: 0.2641 - val_loss: 3.1283 - val_accuracy: 0.2455 - lr: 0.0010\n",
            "Epoch 33/100\n",
            "624/625 [============================>.] - ETA: 0s - loss: 2.8304 - accuracy: 0.2829\n",
            "Epoch 33: val_accuracy improved from 0.25290 to 0.27070, saving model to best.weights.h5\n",
            "625/625 [==============================] - 22s 35ms/step - loss: 2.8302 - accuracy: 0.2830 - val_loss: 2.9981 - val_accuracy: 0.2707 - lr: 2.5000e-04\n",
            "Epoch 34/100\n",
            "625/625 [==============================] - ETA: 0s - loss: 2.8036 - accuracy: 0.2912\n",
            "Epoch 34: val_accuracy improved from 0.27070 to 0.27450, saving model to best.weights.h5\n",
            "625/625 [==============================] - 23s 37ms/step - loss: 2.8036 - accuracy: 0.2912 - val_loss: 2.9841 - val_accuracy: 0.2745 - lr: 2.5000e-04\n",
            "Epoch 35/100\n",
            "625/625 [==============================] - ETA: 0s - loss: 2.7964 - accuracy: 0.2925\n",
            "Epoch 35: val_accuracy did not improve from 0.27450\n",
            "625/625 [==============================] - 27s 44ms/step - loss: 2.7964 - accuracy: 0.2925 - val_loss: 3.0035 - val_accuracy: 0.2744 - lr: 2.5000e-04\n",
            "Epoch 36/100\n",
            "625/625 [==============================] - ETA: 0s - loss: 2.7794 - accuracy: 0.2969\n",
            "Epoch 36: val_accuracy did not improve from 0.27450\n",
            "625/625 [==============================] - 25s 39ms/step - loss: 2.7794 - accuracy: 0.2969 - val_loss: 2.9872 - val_accuracy: 0.2732 - lr: 2.5000e-04\n",
            "Epoch 37/100\n",
            "624/625 [============================>.] - ETA: 0s - loss: 2.7716 - accuracy: 0.2982\n",
            "Epoch 37: ReduceLROnPlateau reducing learning rate to 6.25000029685907e-05.\n",
            "\n",
            "Epoch 37: val_accuracy did not improve from 0.27450\n",
            "625/625 [==============================] - 24s 38ms/step - loss: 2.7716 - accuracy: 0.2980 - val_loss: 2.9800 - val_accuracy: 0.2745 - lr: 2.5000e-04\n",
            "Epoch 38/100\n",
            "625/625 [==============================] - ETA: 0s - loss: 2.7372 - accuracy: 0.3024\n",
            "Epoch 38: val_accuracy improved from 0.27450 to 0.27700, saving model to best.weights.h5\n",
            "625/625 [==============================] - 24s 38ms/step - loss: 2.7372 - accuracy: 0.3024 - val_loss: 2.9757 - val_accuracy: 0.2770 - lr: 6.2500e-05\n",
            "Epoch 39/100\n",
            "625/625 [==============================] - ETA: 0s - loss: 2.7302 - accuracy: 0.3036\n",
            "Epoch 39: val_accuracy improved from 0.27700 to 0.27860, saving model to best.weights.h5\n",
            "625/625 [==============================] - 24s 38ms/step - loss: 2.7302 - accuracy: 0.3036 - val_loss: 2.9744 - val_accuracy: 0.2786 - lr: 6.2500e-05\n",
            "Epoch 40/100\n",
            "624/625 [============================>.] - ETA: 0s - loss: 2.7325 - accuracy: 0.3041\n",
            "Epoch 40: val_accuracy did not improve from 0.27860\n",
            "625/625 [==============================] - 24s 38ms/step - loss: 2.7323 - accuracy: 0.3041 - val_loss: 2.9767 - val_accuracy: 0.2779 - lr: 6.2500e-05\n",
            "Epoch 41/100\n",
            "624/625 [============================>.] - ETA: 0s - loss: 2.7249 - accuracy: 0.3058\n",
            "Epoch 41: val_accuracy did not improve from 0.27860\n",
            "625/625 [==============================] - 23s 38ms/step - loss: 2.7253 - accuracy: 0.3058 - val_loss: 2.9702 - val_accuracy: 0.2786 - lr: 6.2500e-05\n",
            "Epoch 42/100\n",
            "625/625 [==============================] - ETA: 0s - loss: 2.7235 - accuracy: 0.3079\n",
            "Epoch 42: ReduceLROnPlateau reducing learning rate to 1.5625000742147677e-05.\n",
            "\n",
            "Epoch 42: val_accuracy improved from 0.27860 to 0.27870, saving model to best.weights.h5\n",
            "625/625 [==============================] - 23s 37ms/step - loss: 2.7235 - accuracy: 0.3079 - val_loss: 2.9819 - val_accuracy: 0.2787 - lr: 6.2500e-05\n",
            "Epoch 43/100\n",
            "625/625 [==============================] - ETA: 0s - loss: 2.7057 - accuracy: 0.3102\n",
            "Epoch 43: val_accuracy did not improve from 0.27870\n",
            "625/625 [==============================] - 23s 37ms/step - loss: 2.7057 - accuracy: 0.3102 - val_loss: 2.9761 - val_accuracy: 0.2786 - lr: 1.5625e-05\n",
            "Epoch 44/100\n",
            "625/625 [==============================] - ETA: 0s - loss: 2.7131 - accuracy: 0.3088\n",
            "Epoch 44: val_accuracy improved from 0.27870 to 0.27940, saving model to best.weights.h5\n",
            "625/625 [==============================] - 23s 36ms/step - loss: 2.7131 - accuracy: 0.3088 - val_loss: 2.9811 - val_accuracy: 0.2794 - lr: 1.5625e-05\n",
            "Epoch 45/100\n",
            "624/625 [============================>.] - ETA: 0s - loss: 2.7056 - accuracy: 0.3096\n",
            "Epoch 45: val_accuracy improved from 0.27940 to 0.28030, saving model to best.weights.h5\n",
            "625/625 [==============================] - 23s 37ms/step - loss: 2.7059 - accuracy: 0.3094 - val_loss: 2.9680 - val_accuracy: 0.2803 - lr: 1.5625e-05\n",
            "Epoch 46/100\n",
            "625/625 [==============================] - ETA: 0s - loss: 2.7036 - accuracy: 0.3112\n",
            "Epoch 46: val_accuracy did not improve from 0.28030\n",
            "625/625 [==============================] - 23s 36ms/step - loss: 2.7036 - accuracy: 0.3112 - val_loss: 2.9719 - val_accuracy: 0.2799 - lr: 1.5625e-05\n",
            "Epoch 47/100\n",
            "625/625 [==============================] - ETA: 0s - loss: 2.7111 - accuracy: 0.3081\n",
            "Epoch 47: val_accuracy did not improve from 0.28030\n",
            "625/625 [==============================] - 22s 35ms/step - loss: 2.7111 - accuracy: 0.3081 - val_loss: 2.9762 - val_accuracy: 0.2791 - lr: 1.5625e-05\n",
            "Epoch 48/100\n",
            "624/625 [============================>.] - ETA: 0s - loss: 2.7127 - accuracy: 0.3096\n",
            "Epoch 48: ReduceLROnPlateau reducing learning rate to 5e-06.\n",
            "\n",
            "Epoch 48: val_accuracy did not improve from 0.28030\n",
            "625/625 [==============================] - 24s 38ms/step - loss: 2.7126 - accuracy: 0.3095 - val_loss: 2.9738 - val_accuracy: 0.2792 - lr: 1.5625e-05\n",
            "Epoch 49/100\n",
            "625/625 [==============================] - ETA: 0s - loss: 2.7040 - accuracy: 0.3092\n",
            "Epoch 49: val_accuracy did not improve from 0.28030\n",
            "625/625 [==============================] - 24s 38ms/step - loss: 2.7040 - accuracy: 0.3092 - val_loss: 2.9806 - val_accuracy: 0.2796 - lr: 5.0000e-06\n",
            "Epoch 50/100\n",
            "625/625 [==============================] - ETA: 0s - loss: 2.7011 - accuracy: 0.3107\n",
            "Epoch 50: val_accuracy did not improve from 0.28030\n",
            "625/625 [==============================] - 23s 37ms/step - loss: 2.7011 - accuracy: 0.3107 - val_loss: 2.9705 - val_accuracy: 0.2794 - lr: 5.0000e-06\n",
            "Epoch 51/100\n",
            "624/625 [============================>.] - ETA: 0s - loss: 2.7107 - accuracy: 0.3093\n",
            "Epoch 51: val_accuracy did not improve from 0.28030\n",
            "625/625 [==============================] - 23s 38ms/step - loss: 2.7109 - accuracy: 0.3092 - val_loss: 2.9699 - val_accuracy: 0.2797 - lr: 5.0000e-06\n",
            "Epoch 52/100\n",
            "624/625 [============================>.] - ETA: 0s - loss: 2.6995 - accuracy: 0.3114\n",
            "Epoch 52: val_accuracy did not improve from 0.28030\n",
            "625/625 [==============================] - 23s 37ms/step - loss: 2.6998 - accuracy: 0.3114 - val_loss: 2.9675 - val_accuracy: 0.2797 - lr: 5.0000e-06\n",
            "Epoch 53/100\n",
            "625/625 [==============================] - ETA: 0s - loss: 2.7094 - accuracy: 0.3088Restoring model weights from the end of the best epoch: 45.\n",
            "\n",
            "Epoch 53: val_accuracy did not improve from 0.28030\n",
            "625/625 [==============================] - 22s 36ms/step - loss: 2.7094 - accuracy: 0.3088 - val_loss: 2.9693 - val_accuracy: 0.2785 - lr: 5.0000e-06\n",
            "Epoch 53: early stopping\n"
          ]
        }
      ]
    },
    {
      "cell_type": "markdown",
      "source": [
        "#Resultados\n"
      ],
      "metadata": {
        "id": "JUlmxMDM7Pbm"
      }
    },
    {
      "cell_type": "markdown",
      "source": [
        "Para un kernel con distribución normal dió un accuracy mejor en el kaggle, pero en val_accuracy casi igual. Dejo los dos csv por las dudas, pero este fue el de mejor resultado.\n",
        "En test se obtuvo un accuracy del 29%."
      ],
      "metadata": {
        "id": "7zrs1-6Vi32t"
      }
    },
    {
      "cell_type": "code",
      "source": [
        "plt.plot(history.history[\"loss\"])\n",
        "plt.plot(history.history[\"val_loss\"])\n"
      ],
      "metadata": {
        "execution": {
          "iopub.status.busy": "2024-05-29T15:51:32.304223Z",
          "iopub.execute_input": "2024-05-29T15:51:32.304893Z",
          "iopub.status.idle": "2024-05-29T15:51:32.60838Z",
          "shell.execute_reply.started": "2024-05-29T15:51:32.304856Z",
          "shell.execute_reply": "2024-05-29T15:51:32.607019Z"
        },
        "trusted": true,
        "id": "wrM0rYbp-J_k",
        "colab": {
          "base_uri": "https://localhost:8080/",
          "height": 448
        },
        "outputId": "05013c95-1ff0-464b-d46b-4cc871a2fc1e"
      },
      "execution_count": null,
      "outputs": [
        {
          "output_type": "execute_result",
          "data": {
            "text/plain": [
              "[<matplotlib.lines.Line2D at 0x7b869fab8a00>]"
            ]
          },
          "metadata": {},
          "execution_count": 50
        },
        {
          "output_type": "display_data",
          "data": {
            "text/plain": [
              "<Figure size 640x480 with 1 Axes>"
            ],
            "image/png": "[encoded data removed]"
          },
          "metadata": {}
        }
      ]
    },
    {
      "cell_type": "code",
      "source": [
        "plt.plot(history.history[\"accuracy\"])\n",
        "plt.plot(history.history[\"val_accuracy\"])"
      ],
      "metadata": {
        "execution": {
          "iopub.status.busy": "2024-05-29T15:51:36.39618Z",
          "iopub.execute_input": "2024-05-29T15:51:36.396574Z",
          "iopub.status.idle": "2024-05-29T15:51:36.700811Z",
          "shell.execute_reply.started": "2024-05-29T15:51:36.396545Z",
          "shell.execute_reply": "2024-05-29T15:51:36.699652Z"
        },
        "trusted": true,
        "id": "WGkGvDBC-J_l",
        "colab": {
          "base_uri": "https://localhost:8080/",
          "height": 448
        },
        "outputId": "2ba0c035-f6c4-4433-b52b-c7bd41ada097"
      },
      "execution_count": null,
      "outputs": [
        {
          "output_type": "execute_result",
          "data": {
            "text/plain": [
              "[<matplotlib.lines.Line2D at 0x7b85b01d9090>]"
            ]
          },
          "metadata": {},
          "execution_count": 51
        },
        {
          "output_type": "display_data",
          "data": {
            "text/plain": [
              "<Figure size 640x480 with 1 Axes>"
            ],
            "image/png": "[encoded data removed]"
          },
          "metadata": {}
        }
      ]
    },
    {
      "cell_type": "code",
      "source": [
        "predictions = model.predict(x_test)\n",
        "\n",
        "#test_accuracy_prom=sum(np.array(predictions)==np.array(x_test[\\\"target\\\"]))/len(twenty_test[\\\"target\\\"])*100\\n))"
      ],
      "metadata": {
        "execution": {
          "iopub.status.busy": "2024-05-29T15:51:42.961783Z",
          "iopub.execute_input": "2024-05-29T15:51:42.962201Z",
          "iopub.status.idle": "2024-05-29T15:51:45.595667Z",
          "shell.execute_reply.started": "2024-05-29T15:51:42.962169Z",
          "shell.execute_reply": "2024-05-29T15:51:45.594346Z"
        },
        "trusted": true,
        "id": "kgarmLzS-J_l",
        "colab": {
          "base_uri": "https://localhost:8080/"
        },
        "outputId": "bcf817f3-2d65-4bfc-d3c0-9f4ad4459ec7"
      },
      "execution_count": null,
      "outputs": [
        {
          "output_type": "stream",
          "name": "stdout",
          "text": [
            "313/313 [==============================] - 1s 2ms/step\n"
          ]
        }
      ]
    },
    {
      "cell_type": "code",
      "source": [
        "predictions = predictions.argmax(axis=1)"
      ],
      "metadata": {
        "execution": {
          "iopub.status.busy": "2024-05-29T15:51:47.668721Z",
          "iopub.execute_input": "2024-05-29T15:51:47.669411Z",
          "iopub.status.idle": "2024-05-29T15:51:47.675124Z",
          "shell.execute_reply.started": "2024-05-29T15:51:47.66938Z",
          "shell.execute_reply": "2024-05-29T15:51:47.673733Z"
        },
        "trusted": true,
        "id": "ezHJfD8J-J_l"
      },
      "execution_count": null,
      "outputs": []
    },
    {
      "cell_type": "code",
      "source": [
        "predictions"
      ],
      "metadata": {
        "execution": {
          "iopub.status.busy": "2024-05-29T15:51:50.995523Z",
          "iopub.execute_input": "2024-05-29T15:51:50.99665Z",
          "iopub.status.idle": "2024-05-29T15:51:51.003904Z",
          "shell.execute_reply.started": "2024-05-29T15:51:50.996582Z",
          "shell.execute_reply": "2024-05-29T15:51:51.002796Z"
        },
        "trusted": true,
        "id": "iKyrcBo8-J_l",
        "colab": {
          "base_uri": "https://localhost:8080/"
        },
        "outputId": "2e8fe0d4-4159-4020-9172-5b723aedc466"
      },
      "execution_count": null,
      "outputs": [
        {
          "output_type": "execute_result",
          "data": {
            "text/plain": [
              "array([71, 66, 15, ..., 51, 80,  0])"
            ]
          },
          "metadata": {},
          "execution_count": 54
        }
      ]
    },
    {
      "cell_type": "code",
      "source": [
        "df = pd.DataFrame(predictions, columns=[\"Label\"])"
      ],
      "metadata": {
        "execution": {
          "iopub.status.busy": "2024-05-29T15:51:59.743194Z",
          "iopub.execute_input": "2024-05-29T15:51:59.744286Z",
          "iopub.status.idle": "2024-05-29T15:51:59.757474Z",
          "shell.execute_reply.started": "2024-05-29T15:51:59.744246Z",
          "shell.execute_reply": "2024-05-29T15:51:59.756164Z"
        },
        "trusted": true,
        "id": "sEh0_e22-J_m"
      },
      "execution_count": null,
      "outputs": []
    },
    {
      "cell_type": "code",
      "source": [
        "df.index.name = \"Id\""
      ],
      "metadata": {
        "execution": {
          "iopub.status.busy": "2024-05-29T13:52:41.340113Z",
          "iopub.status.idle": "2024-05-29T13:52:41.340673Z",
          "shell.execute_reply.started": "2024-05-29T13:52:41.340382Z",
          "shell.execute_reply": "2024-05-29T13:52:41.340405Z"
        },
        "trusted": true,
        "id": "Qin8fPmj-J_m"
      },
      "execution_count": null,
      "outputs": []
    },
    {
      "cell_type": "code",
      "source": [
        "df.head()"
      ],
      "metadata": {
        "execution": {
          "iopub.status.busy": "2024-05-29T13:52:41.342029Z",
          "iopub.status.idle": "2024-05-29T13:52:41.342918Z",
          "shell.execute_reply.started": "2024-05-29T13:52:41.342639Z",
          "shell.execute_reply": "2024-05-29T13:52:41.342662Z"
        },
        "trusted": true,
        "id": "je1LospX-J_m",
        "colab": {
          "base_uri": "https://localhost:8080/",
          "height": 237
        },
        "outputId": "a70e5e73-35fa-477a-9532-21fc6bfa32e6"
      },
      "execution_count": null,
      "outputs": [
        {
          "output_type": "execute_result",
          "data": {
            "text/plain": [
              "    Label\n",
              "Id       \n",
              "0      71\n",
              "1      66\n",
              "2      15\n",
              "3      11\n",
              "4      71"
            ],
            "text/html": [
              "\n",
              "  <div id=\"df-2752a95f-471e-4046-93aa-8d7cbf8a3b49\" class=\"colab-df-container\">\n",
              "    <div>\n",
              "<style scoped>\n",
              "    .dataframe tbody tr th:only-of-type {\n",
              "        vertical-align: middle;\n",
              "    }\n",
              "\n",
              "    .dataframe tbody tr th {\n",
              "        vertical-align: top;\n",
              "    }\n",
              "\n",
              "    .dataframe thead th {\n",
              "        text-align: right;\n",
              "    }\n",
              "</style>\n",
              "<table border=\"1\" class=\"dataframe\">\n",
              "  <thead>\n",
              "    <tr style=\"text-align: right;\">\n",
              "      <th></th>\n",
              "      <th>Label</th>\n",
              "    </tr>\n",
              "    <tr>\n",
              "      <th>Id</th>\n",
              "      <th></th>\n",
              "    </tr>\n",
              "  </thead>\n",
              "  <tbody>\n",
              "    <tr>\n",
              "      <th>0</th>\n",
              "      <td>71</td>\n",
              "    </tr>\n",
              "    <tr>\n",
              "      <th>1</th>\n",
              "      <td>66</td>\n",
              "    </tr>\n",
              "    <tr>\n",
              "      <th>2</th>\n",
              "      <td>15</td>\n",
              "    </tr>\n",
              "    <tr>\n",
              "      <th>3</th>\n",
              "      <td>11</td>\n",
              "    </tr>\n",
              "    <tr>\n",
              "      <th>4</th>\n",
              "      <td>71</td>\n",
              "    </tr>\n",
              "  </tbody>\n",
              "</table>\n",
              "</div>\n",
              "    <div class=\"colab-df-buttons\">\n",
              "\n",
              "  <div class=\"colab-df-container\">\n",
              "    <button class=\"colab-df-convert\" onclick=\"convertToInteractive('df-2752a95f-471e-4046-93aa-8d7cbf8a3b49')\"\n",
              "            title=\"Convert this dataframe to an interactive table.\"\n",
              "            style=\"display:none;\">\n",
              "\n",
              "  <svg xmlns=\"http://www.w3.org/2000/svg\" height=\"24px\" viewBox=\"0 -960 960 960\">\n",
              "    <path d=\"M120-120v-720h720v720H120Zm60-500h600v-160H180v160Zm220 220h160v-160H400v160Zm0 220h160v-160H400v160ZM180-400h160v-160H180v160Zm440 0h160v-160H620v160ZM180-180h160v-160H180v160Zm440 0h160v-160H620v160Z\"/>\n",
              "  </svg>\n",
              "    </button>\n",
              "\n",
              "  <style>\n",
              "    .colab-df-container {\n",
              "      display:flex;\n",
              "      gap: 12px;\n",
              "    }\n",
              "\n",
              "    .colab-df-convert {\n",
              "      background-color: #E8F0FE;\n",
              "      border: none;\n",
              "      border-radius: 50%;\n",
              "      cursor: pointer;\n",
              "      display: none;\n",
              "      fill: #1967D2;\n",
              "      height: 32px;\n",
              "      padding: 0 0 0 0;\n",
              "      width: 32px;\n",
              "    }\n",
              "\n",
              "    .colab-df-convert:hover {\n",
              "      background-color: #E2EBFA;\n",
              "      box-shadow: 0px 1px 2px rgba(60, 64, 67, 0.3), 0px 1px 3px 1px rgba(60, 64, 67, 0.15);\n",
              "      fill: #174EA6;\n",
              "    }\n",
              "\n",
              "    .colab-df-buttons div {\n",
              "      margin-bottom: 4px;\n",
              "    }\n",
              "\n",
              "    [theme=dark] .colab-df-convert {\n",
              "      background-color: #3B4455;\n",
              "      fill: #D2E3FC;\n",
              "    }\n",
              "\n",
              "    [theme=dark] .colab-df-convert:hover {\n",
              "      background-color: #434B5C;\n",
              "      box-shadow: 0px 1px 3px 1px rgba(0, 0, 0, 0.15);\n",
              "      filter: drop-shadow(0px 1px 2px rgba(0, 0, 0, 0.3));\n",
              "      fill: #FFFFFF;\n",
              "    }\n",
              "  </style>\n",
              "\n",
              "    <script>\n",
              "      const buttonEl =\n",
              "        document.querySelector('#df-2752a95f-471e-4046-93aa-8d7cbf8a3b49 button.colab-df-convert');\n",
              "      buttonEl.style.display =\n",
              "        google.colab.kernel.accessAllowed ? 'block' : 'none';\n",
              "\n",
              "      async function convertToInteractive(key) {\n",
              "        const element = document.querySelector('#df-2752a95f-471e-4046-93aa-8d7cbf8a3b49');\n",
              "        const dataTable =\n",
              "          await google.colab.kernel.invokeFunction('convertToInteractive',\n",
              "                                                    [key], {});\n",
              "        if (!dataTable) return;\n",
              "\n",
              "        const docLinkHtml = 'Like what you see? Visit the ' +\n",
              "          '<a target=\"_blank\" href=https://colab.research.google.com/notebooks/data_table.ipynb>data table notebook</a>'\n",
              "          + ' to learn more about interactive tables.';\n",
              "        element.innerHTML = '';\n",
              "        dataTable['output_type'] = 'display_data';\n",
              "        await google.colab.output.renderOutput(dataTable, element);\n",
              "        const docLink = document.createElement('div');\n",
              "        docLink.innerHTML = docLinkHtml;\n",
              "        element.appendChild(docLink);\n",
              "      }\n",
              "    </script>\n",
              "  </div>\n",
              "\n",
              "\n",
              "<div id=\"df-b105a866-e885-4d63-bbc0-254b3d9e8847\">\n",
              "  <button class=\"colab-df-quickchart\" onclick=\"quickchart('df-b105a866-e885-4d63-bbc0-254b3d9e8847')\"\n",
              "            title=\"Suggest charts\"\n",
              "            style=\"display:none;\">\n",
              "\n",
              "<svg xmlns=\"http://www.w3.org/2000/svg\" height=\"24px\"viewBox=\"0 0 24 24\"\n",
              "     width=\"24px\">\n",
              "    <g>\n",
              "        <path d=\"M19 3H5c-1.1 0-2 .9-2 2v14c0 1.1.9 2 2 2h14c1.1 0 2-.9 2-2V5c0-1.1-.9-2-2-2zM9 17H7v-7h2v7zm4 0h-2V7h2v10zm4 0h-2v-4h2v4z\"/>\n",
              "    </g>\n",
              "</svg>\n",
              "  </button>\n",
              "\n",
              "<style>\n",
              "  .colab-df-quickchart {\n",
              "      --bg-color: #E8F0FE;\n",
              "      --fill-color: #1967D2;\n",
              "      --hover-bg-color: #E2EBFA;\n",
              "      --hover-fill-color: #174EA6;\n",
              "      --disabled-fill-color: #AAA;\n",
              "      --disabled-bg-color: #DDD;\n",
              "  }\n",
              "\n",
              "  [theme=dark] .colab-df-quickchart {\n",
              "      --bg-color: #3B4455;\n",
              "      --fill-color: #D2E3FC;\n",
              "      --hover-bg-color: #434B5C;\n",
              "      --hover-fill-color: #FFFFFF;\n",
              "      --disabled-bg-color: #3B4455;\n",
              "      --disabled-fill-color: #666;\n",
              "  }\n",
              "\n",
              "  .colab-df-quickchart {\n",
              "    background-color: var(--bg-color);\n",
              "    border: none;\n",
              "    border-radius: 50%;\n",
              "    cursor: pointer;\n",
              "    display: none;\n",
              "    fill: var(--fill-color);\n",
              "    height: 32px;\n",
              "    padding: 0;\n",
              "    width: 32px;\n",
              "  }\n",
              "\n",
              "  .colab-df-quickchart:hover {\n",
              "    background-color: var(--hover-bg-color);\n",
              "    box-shadow: 0 1px 2px rgba(60, 64, 67, 0.3), 0 1px 3px 1px rgba(60, 64, 67, 0.15);\n",
              "    fill: var(--button-hover-fill-color);\n",
              "  }\n",
              "\n",
              "  .colab-df-quickchart-complete:disabled,\n",
              "  .colab-df-quickchart-complete:disabled:hover {\n",
              "    background-color: var(--disabled-bg-color);\n",
              "    fill: var(--disabled-fill-color);\n",
              "    box-shadow: none;\n",
              "  }\n",
              "\n",
              "  .colab-df-spinner {\n",
              "    border: 2px solid var(--fill-color);\n",
              "    border-color: transparent;\n",
              "    border-bottom-color: var(--fill-color);\n",
              "    animation:\n",
              "      spin 1s steps(1) infinite;\n",
              "  }\n",
              "\n",
              "  @keyframes spin {\n",
              "    0% {\n",
              "      border-color: transparent;\n",
              "      border-bottom-color: var(--fill-color);\n",
              "      border-left-color: var(--fill-color);\n",
              "    }\n",
              "    20% {\n",
              "      border-color: transparent;\n",
              "      border-left-color: var(--fill-color);\n",
              "      border-top-color: var(--fill-color);\n",
              "    }\n",
              "    30% {\n",
              "      border-color: transparent;\n",
              "      border-left-color: var(--fill-color);\n",
              "      border-top-color: var(--fill-color);\n",
              "      border-right-color: var(--fill-color);\n",
              "    }\n",
              "    40% {\n",
              "      border-color: transparent;\n",
              "      border-right-color: var(--fill-color);\n",
              "      border-top-color: var(--fill-color);\n",
              "    }\n",
              "    60% {\n",
              "      border-color: transparent;\n",
              "      border-right-color: var(--fill-color);\n",
              "    }\n",
              "    80% {\n",
              "      border-color: transparent;\n",
              "      border-right-color: var(--fill-color);\n",
              "      border-bottom-color: var(--fill-color);\n",
              "    }\n",
              "    90% {\n",
              "      border-color: transparent;\n",
              "      border-bottom-color: var(--fill-color);\n",
              "    }\n",
              "  }\n",
              "</style>\n",
              "\n",
              "  <script>\n",
              "    async function quickchart(key) {\n",
              "      const quickchartButtonEl =\n",
              "        document.querySelector('#' + key + ' button');\n",
              "      quickchartButtonEl.disabled = true;  // To prevent multiple clicks.\n",
              "      quickchartButtonEl.classList.add('colab-df-spinner');\n",
              "      try {\n",
              "        const charts = await google.colab.kernel.invokeFunction(\n",
              "            'suggestCharts', [key], {});\n",
              "      } catch (error) {\n",
              "        console.error('Error during call to suggestCharts:', error);\n",
              "      }\n",
              "      quickchartButtonEl.classList.remove('colab-df-spinner');\n",
              "      quickchartButtonEl.classList.add('colab-df-quickchart-complete');\n",
              "    }\n",
              "    (() => {\n",
              "      let quickchartButtonEl =\n",
              "        document.querySelector('#df-b105a866-e885-4d63-bbc0-254b3d9e8847 button');\n",
              "      quickchartButtonEl.style.display =\n",
              "        google.colab.kernel.accessAllowed ? 'block' : 'none';\n",
              "    })();\n",
              "  </script>\n",
              "</div>\n",
              "\n",
              "    </div>\n",
              "  </div>\n"
            ],
            "application/vnd.google.colaboratory.intrinsic+json": {
              "type": "dataframe",
              "variable_name": "df",
              "summary": "{\n  \"name\": \"df\",\n  \"rows\": 10000,\n  \"fields\": [\n    {\n      \"column\": \"Id\",\n      \"properties\": {\n        \"dtype\": \"number\",\n        \"std\": 2886,\n        \"min\": 0,\n        \"max\": 9999,\n        \"num_unique_values\": 10000,\n        \"samples\": [\n          6252,\n          4684,\n          1731\n        ],\n        \"semantic_type\": \"\",\n        \"description\": \"\"\n      }\n    },\n    {\n      \"column\": \"Label\",\n      \"properties\": {\n        \"dtype\": \"number\",\n        \"std\": 29,\n        \"min\": 0,\n        \"max\": 99,\n        \"num_unique_values\": 100,\n        \"samples\": [\n          72,\n          93,\n          33\n        ],\n        \"semantic_type\": \"\",\n        \"description\": \"\"\n      }\n    }\n  ]\n}"
            }
          },
          "metadata": {},
          "execution_count": 58
        }
      ]
    },
    {
      "cell_type": "code",
      "source": [
        "df.to_csv(\"submission.csv\")"
      ],
      "metadata": {
        "execution": {
          "iopub.status.busy": "2024-05-29T13:52:41.344075Z",
          "iopub.status.idle": "2024-05-29T13:52:41.345038Z",
          "shell.execute_reply.started": "2024-05-29T13:52:41.344749Z",
          "shell.execute_reply": "2024-05-29T13:52:41.344774Z"
        },
        "trusted": true,
        "id": "ko0CZb_d-J_m"
      },
      "execution_count": null,
      "outputs": []
    },
    {
      "cell_type": "code",
      "source": [],
      "metadata": {
        "id": "F105wz-W-J_m"
      },
      "execution_count": null,
      "outputs": []
    }
  ]
}